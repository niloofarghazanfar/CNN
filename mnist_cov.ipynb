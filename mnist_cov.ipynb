{
  "nbformat": 4,
  "nbformat_minor": 0,
  "metadata": {
    "colab": {
      "name": "mnist-cov.ipynb",
      "provenance": [],
      "collapsed_sections": []
    },
    "kernelspec": {
      "name": "python3",
      "display_name": "Python 3"
    },
    "language_info": {
      "name": "python"
    }
  },
  "cells": [
    {
      "cell_type": "code",
      "metadata": {
        "id": "oeb0epaWW-_U"
      },
      "source": [
        "from keras.datasets import mnist\n",
        "from keras.models import Model\n",
        "from keras import layers\n",
        "import keras\n",
        "import matplotlib.pyplot  as plt"
      ],
      "execution_count": 1,
      "outputs": []
    },
    {
      "cell_type": "code",
      "metadata": {
        "colab": {
          "base_uri": "https://localhost:8080/"
        },
        "id": "_ha62HHTXfqc",
        "outputId": "d64b264f-8de8-4ccf-f539-ab757b57e91a"
      },
      "source": [
        "# Load data\n",
        "(train_images, train_labels), (test_images, test_labels) = mnist.load_data()\n",
        "\n",
        "# Data attributes\n",
        "print(\"train_images dimentions: \", train_images.ndim)\n",
        "print(\"train_images shape: \", train_images.shape)\n",
        "print(\"train_images type: \", train_images.dtype)\n",
        "\n",
        "X_train = train_images.reshape(60000, 28, 28, 1)\n",
        "X_test = test_images.reshape(10000, 28, 28, 1)\n",
        "\n",
        "X_train = X_train.astype('float32')\n",
        "X_test = X_test.astype('float32')\n",
        "\n",
        "X_train /= 255\n",
        "X_test /= 255"
      ],
      "execution_count": 2,
      "outputs": [
        {
          "output_type": "stream",
          "text": [
            "Downloading data from https://storage.googleapis.com/tensorflow/tf-keras-datasets/mnist.npz\n",
            "11493376/11490434 [==============================] - 0s 0us/step\n",
            "11501568/11490434 [==============================] - 0s 0us/step\n",
            "train_images dimentions:  3\n",
            "train_images shape:  (60000, 28, 28)\n",
            "train_images type:  uint8\n"
          ],
          "name": "stdout"
        }
      ]
    },
    {
      "cell_type": "code",
      "metadata": {
        "id": "38882DmFhRsJ"
      },
      "source": [
        "from keras.utils import np_utils\n",
        "Y_train = np_utils.to_categorical(train_labels)\n",
        "Y_test = np_utils.to_categorical(test_labels)"
      ],
      "execution_count": 5,
      "outputs": []
    },
    {
      "cell_type": "code",
      "metadata": {
        "colab": {
          "base_uri": "https://localhost:8080/"
        },
        "id": "mZ9eiGWbh-dJ",
        "outputId": "4caad84a-9abd-4b33-d30b-ddbdf1adc68c"
      },
      "source": [
        "Y_test"
      ],
      "execution_count": 6,
      "outputs": [
        {
          "output_type": "execute_result",
          "data": {
            "text/plain": [
              "array([[0., 0., 0., ..., 1., 0., 0.],\n",
              "       [0., 0., 1., ..., 0., 0., 0.],\n",
              "       [0., 1., 0., ..., 0., 0., 0.],\n",
              "       ...,\n",
              "       [0., 0., 0., ..., 0., 0., 0.],\n",
              "       [0., 0., 0., ..., 0., 0., 0.],\n",
              "       [0., 0., 0., ..., 0., 0., 0.]], dtype=float32)"
            ]
          },
          "metadata": {
            "tags": []
          },
          "execution_count": 6
        }
      ]
    },
    {
      "cell_type": "code",
      "metadata": {
        "colab": {
          "base_uri": "https://localhost:8080/"
        },
        "id": "xZK9RfMQXss0",
        "outputId": "66bed451-d1b4-4614-9871-b441eccb7a4c"
      },
      "source": [
        "# Creating our model\n",
        "myInput = layers.Input(shape=(28,28,1))\n",
        "conv1 = layers.Conv2D(16, (3,3), activation='relu', padding='same', strides=2)(myInput)\n",
        "pool1 = layers.MaxPool2D(pool_size=(2,2))(conv1)\n",
        "conv2 = layers.Conv2D(32, (3,3), activation='relu', padding='same', strides=2)(pool1)\n",
        "pool2 = layers.MaxPool2D(pool_size=(2,2))(conv2)\n",
        "flat = layers.Flatten()(pool2)\n",
        "out_layer = layers.Dense(10, activation='softmax')(flat)\n",
        "\n",
        "myModel = Model(myInput, out_layer)\n",
        "\n",
        "myModel.summary()\n",
        "myModel.compile(optimizer=keras.optimizers.Adam(), loss=keras.losses.categorical_crossentropy, metrics=['accuracy'])"
      ],
      "execution_count": 7,
      "outputs": [
        {
          "output_type": "stream",
          "text": [
            "Model: \"model\"\n",
            "_________________________________________________________________\n",
            "Layer (type)                 Output Shape              Param #   \n",
            "=================================================================\n",
            "input_1 (InputLayer)         [(None, 28, 28, 1)]       0         \n",
            "_________________________________________________________________\n",
            "conv2d (Conv2D)              (None, 14, 14, 16)        160       \n",
            "_________________________________________________________________\n",
            "max_pooling2d (MaxPooling2D) (None, 7, 7, 16)          0         \n",
            "_________________________________________________________________\n",
            "conv2d_1 (Conv2D)            (None, 4, 4, 32)          4640      \n",
            "_________________________________________________________________\n",
            "max_pooling2d_1 (MaxPooling2 (None, 2, 2, 32)          0         \n",
            "_________________________________________________________________\n",
            "flatten (Flatten)            (None, 128)               0         \n",
            "_________________________________________________________________\n",
            "dense (Dense)                (None, 10)                1290      \n",
            "=================================================================\n",
            "Total params: 6,090\n",
            "Trainable params: 6,090\n",
            "Non-trainable params: 0\n",
            "_________________________________________________________________\n"
          ],
          "name": "stdout"
        }
      ]
    },
    {
      "cell_type": "code",
      "metadata": {
        "colab": {
          "base_uri": "https://localhost:8080/"
        },
        "id": "KBK2jCYRYpmr",
        "outputId": "cb3bc745-0880-4c39-d75b-c015ff539959"
      },
      "source": [
        "network_history = myModel.fit(X_train, Y_train, epochs=20, validation_split=0.2)"
      ],
      "execution_count": 8,
      "outputs": [
        {
          "output_type": "stream",
          "text": [
            "Epoch 1/20\n",
            "1500/1500 [==============================] - 25s 7ms/step - loss: 0.8155 - accuracy: 0.7520 - val_loss: 0.1498 - val_accuracy: 0.9546\n",
            "Epoch 2/20\n",
            "1500/1500 [==============================] - 9s 6ms/step - loss: 0.1479 - accuracy: 0.9542 - val_loss: 0.1142 - val_accuracy: 0.9657\n",
            "Epoch 3/20\n",
            "1500/1500 [==============================] - 9s 6ms/step - loss: 0.1109 - accuracy: 0.9665 - val_loss: 0.0985 - val_accuracy: 0.9715\n",
            "Epoch 4/20\n",
            "1500/1500 [==============================] - 9s 6ms/step - loss: 0.0896 - accuracy: 0.9728 - val_loss: 0.0855 - val_accuracy: 0.9739\n",
            "Epoch 5/20\n",
            "1500/1500 [==============================] - 10s 7ms/step - loss: 0.0825 - accuracy: 0.9754 - val_loss: 0.0843 - val_accuracy: 0.9753\n",
            "Epoch 6/20\n",
            "1500/1500 [==============================] - 10s 6ms/step - loss: 0.0709 - accuracy: 0.9785 - val_loss: 0.0773 - val_accuracy: 0.9761\n",
            "Epoch 7/20\n",
            "1500/1500 [==============================] - 10s 6ms/step - loss: 0.0699 - accuracy: 0.9779 - val_loss: 0.0858 - val_accuracy: 0.9728\n",
            "Epoch 8/20\n",
            "1500/1500 [==============================] - 9s 6ms/step - loss: 0.0622 - accuracy: 0.9809 - val_loss: 0.0727 - val_accuracy: 0.9784\n",
            "Epoch 9/20\n",
            "1500/1500 [==============================] - 10s 6ms/step - loss: 0.0550 - accuracy: 0.9832 - val_loss: 0.0722 - val_accuracy: 0.9779\n",
            "Epoch 10/20\n",
            "1500/1500 [==============================] - 9s 6ms/step - loss: 0.0510 - accuracy: 0.9847 - val_loss: 0.0728 - val_accuracy: 0.9802\n",
            "Epoch 11/20\n",
            "1500/1500 [==============================] - 9s 6ms/step - loss: 0.0468 - accuracy: 0.9858 - val_loss: 0.0612 - val_accuracy: 0.9818\n",
            "Epoch 12/20\n",
            "1500/1500 [==============================] - 9s 6ms/step - loss: 0.0450 - accuracy: 0.9865 - val_loss: 0.0664 - val_accuracy: 0.9803\n",
            "Epoch 13/20\n",
            "1500/1500 [==============================] - 9s 6ms/step - loss: 0.0447 - accuracy: 0.9866 - val_loss: 0.0718 - val_accuracy: 0.9786\n",
            "Epoch 14/20\n",
            "1500/1500 [==============================] - 9s 6ms/step - loss: 0.0401 - accuracy: 0.9875 - val_loss: 0.0628 - val_accuracy: 0.9803\n",
            "Epoch 15/20\n",
            "1500/1500 [==============================] - 9s 6ms/step - loss: 0.0370 - accuracy: 0.9886 - val_loss: 0.0655 - val_accuracy: 0.9806\n",
            "Epoch 16/20\n",
            "1500/1500 [==============================] - 9s 6ms/step - loss: 0.0332 - accuracy: 0.9899 - val_loss: 0.0639 - val_accuracy: 0.9813\n",
            "Epoch 17/20\n",
            "1500/1500 [==============================] - 9s 6ms/step - loss: 0.0325 - accuracy: 0.9898 - val_loss: 0.0613 - val_accuracy: 0.9820\n",
            "Epoch 18/20\n",
            "1500/1500 [==============================] - 10s 6ms/step - loss: 0.0285 - accuracy: 0.9911 - val_loss: 0.0653 - val_accuracy: 0.9821\n",
            "Epoch 19/20\n",
            "1500/1500 [==============================] - 10s 6ms/step - loss: 0.0302 - accuracy: 0.9906 - val_loss: 0.0675 - val_accuracy: 0.9808\n",
            "Epoch 20/20\n",
            "1500/1500 [==============================] - 9s 6ms/step - loss: 0.0277 - accuracy: 0.9918 - val_loss: 0.0631 - val_accuracy: 0.9816\n"
          ],
          "name": "stdout"
        }
      ]
    },
    {
      "cell_type": "code",
      "metadata": {
        "colab": {
          "base_uri": "https://localhost:8080/",
          "height": 558
        },
        "id": "-IGQLfJUd7pb",
        "outputId": "a5d0b2b1-36dd-4889-b002-c2b9638db3fe"
      },
      "source": [
        "#Draw Plot\n",
        "import matplotlib.pyplot as plt\n",
        "history = network_history.history\n",
        "losses = history['loss']\n",
        "val_losses = history['val_loss']\n",
        "accuracies = history['accuracy']\n",
        "val_accuracies = history['val_accuracy']\n",
        "plt.xlabel('Epochs')\n",
        "plt.ylabel('Loss')\n",
        "plt.plot(losses)\n",
        "plt.plot(val_losses)\n",
        "plt.legend(['loss', 'val_loss'])\n",
        "    \n",
        "plt.figure()\n",
        "plt.xlabel('Epochs')\n",
        "plt.ylabel('Accuracy')\n",
        "plt.plot(accuracies)\n",
        "plt.plot(val_accuracies)\n",
        "plt.legend(['acc', 'val_acc'])"
      ],
      "execution_count": 9,
      "outputs": [
        {
          "output_type": "execute_result",
          "data": {
            "text/plain": [
              "<matplotlib.legend.Legend at 0x7f737cca8a50>"
            ]
          },
          "metadata": {
            "tags": []
          },
          "execution_count": 9
        },
        {
          "output_type": "display_data",
          "data": {
            "image/png": "[encoded data removed]",
            "text/plain": [
              "<Figure size 432x288 with 1 Axes>"
            ]
          },
          "metadata": {
            "tags": [],
            "needs_background": "light"
          }
        },
        {
          "output_type": "display_data",
          "data": {
            "image/png": "[encoded data removed]",
            "text/plain": [
              "<Figure size 432x288 with 1 Axes>"
            ]
          },
          "metadata": {
            "tags": [],
            "needs_background": "light"
          }
        }
      ]
    },
    {
      "cell_type": "code",
      "metadata": {
        "colab": {
          "base_uri": "https://localhost:8080/"
        },
        "id": "boT4R_e0eM3p",
        "outputId": "8b2acc56-e14d-4847-cb5c-7c170e26a6cb"
      },
      "source": [
        "# Evaluation\n",
        "test_loss, test_acc = myModel.evaluate(X_test, Y_test)\n",
        "print('test_loss = ' + str(test_loss))\n",
        "print('test_acc = ' + str (test_acc))"
      ],
      "execution_count": 10,
      "outputs": [
        {
          "output_type": "stream",
          "text": [
            "313/313 [==============================] - 1s 3ms/step - loss: 0.0527 - accuracy: 0.9827\n",
            "test_loss = 0.05265941098332405\n",
            "test_acc = 0.982699990272522\n"
          ],
          "name": "stdout"
        }
      ]
    },
    {
      "cell_type": "code",
      "metadata": {
        "colab": {
          "base_uri": "https://localhost:8080/"
        },
        "id": "_w3_SCwIeUAm",
        "outputId": "909bef4e-09ff-49de-f706-0575fe890dd3"
      },
      "source": [
        "test_labels_p = myModel.predict(X_test)\n",
        "test_labels_p"
      ],
      "execution_count": 11,
      "outputs": [
        {
          "output_type": "execute_result",
          "data": {
            "text/plain": [
              "array([[2.4877360e-13, 1.2536473e-09, 1.0184070e-06, ..., 9.9999893e-01,\n",
              "        4.0581136e-10, 2.1692122e-10],\n",
              "       [4.2846682e-09, 3.3247129e-08, 1.0000000e+00, ..., 6.3481089e-13,\n",
              "        7.0166255e-11, 4.8589876e-14],\n",
              "       [1.2379314e-05, 9.9989080e-01, 1.1836245e-06, ..., 2.1086478e-05,\n",
              "        7.2219086e-07, 3.2616727e-09],\n",
              "       ...,\n",
              "       [2.8180583e-13, 5.7195332e-11, 3.1487641e-13, ..., 3.9257729e-06,\n",
              "        1.0520927e-06, 5.7475683e-07],\n",
              "       [1.5081243e-08, 2.3750042e-11, 1.0106323e-10, ..., 2.8553193e-12,\n",
              "        1.2417817e-04, 1.0485659e-08],\n",
              "       [2.2905213e-07, 1.8931624e-11, 2.3878870e-06, ..., 1.2868347e-08,\n",
              "        1.2855593e-06, 6.0068657e-09]], dtype=float32)"
            ]
          },
          "metadata": {
            "tags": []
          },
          "execution_count": 11
        }
      ]
    },
    {
      "cell_type": "code",
      "metadata": {
        "colab": {
          "base_uri": "https://localhost:8080/"
        },
        "id": "pDTIoyOGeaWG",
        "outputId": "ef29fa4d-8258-485d-d074-ecfc228d077b"
      },
      "source": [
        "import numpy as np\n",
        "test_labels_p = np.argmax(test_labels_p, axis=1)\n",
        "test_labels_p"
      ],
      "execution_count": 12,
      "outputs": [
        {
          "output_type": "execute_result",
          "data": {
            "text/plain": [
              "array([7, 2, 1, ..., 4, 5, 6])"
            ]
          },
          "metadata": {
            "tags": []
          },
          "execution_count": 12
        }
      ]
    }
  ]
}